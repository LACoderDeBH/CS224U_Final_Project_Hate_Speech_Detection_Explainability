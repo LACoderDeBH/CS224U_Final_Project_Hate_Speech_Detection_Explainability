{
 "cells": [
  {
   "cell_type": "code",
   "execution_count": 1,
   "metadata": {},
   "outputs": [
    {
     "ename": "ModuleNotFoundError",
     "evalue": "No module named 'randomAccessReader'",
     "output_type": "error",
     "traceback": [
      "\u001b[0;31m---------------------------------------------------------------------------\u001b[0m",
      "\u001b[0;31mModuleNotFoundError\u001b[0m                       Traceback (most recent call last)",
      "\u001b[0;32m<ipython-input-1-a11d1021c742>\u001b[0m in \u001b[0;36m<module>\u001b[0;34m()\u001b[0m\n\u001b[1;32m      3\u001b[0m \"\"\"\n\u001b[1;32m      4\u001b[0m \u001b[0;34m\u001b[0m\u001b[0m\n\u001b[0;32m----> 5\u001b[0;31m \u001b[0;32mfrom\u001b[0m \u001b[0mrandomAccessReader\u001b[0m \u001b[0;32mimport\u001b[0m \u001b[0mRandomAccessReader\u001b[0m\u001b[0;34m\u001b[0m\u001b[0;34m\u001b[0m\u001b[0m\n\u001b[0m\u001b[1;32m      6\u001b[0m \u001b[0;32mimport\u001b[0m \u001b[0mrandom\u001b[0m\u001b[0;34m\u001b[0m\u001b[0;34m\u001b[0m\u001b[0m\n\u001b[1;32m      7\u001b[0m \u001b[0;32mimport\u001b[0m \u001b[0mjson\u001b[0m\u001b[0;34m\u001b[0m\u001b[0;34m\u001b[0m\u001b[0m\n",
      "\u001b[0;31mModuleNotFoundError\u001b[0m: No module named 'randomAccessReader'"
     ]
    }
   ],
   "source": [
    "\"\"\"\n",
    "Extract small sample for hand labeling from data file\n",
    "\"\"\"\n",
    "\n",
    "from randomAccessReader import RandomAccessReader\n",
    "import random\n",
    "import json\n",
    "import csv\n",
    "\n",
    "NUM_SAMPLES = 10\n",
    "NUM_LINES = 84658503\n",
    "IN_FILE = 'reddit/RC_2017-08'\n",
    "OUT_FILE = 'reddit/sample_keywords.csv'\n",
    "bufsize = 100\n",
    "# NUM_SAMPLES = 1\n",
    "# NUM_LINES = 5\n",
    "# IN_FILE = 'reddit/RC_test'\n",
    "# OUT_FILE = 'reddit/sampled_users_test.csv'\n",
    "\n",
    "samples = []\n",
    "\n",
    "#reader = RandomAccessReader(IN_FILE)\n",
    "# for i in random.sample(xrange(NUM_LINES), NUM_SAMPLES):\n",
    "#   line = json.loads(reader.get_lines(i)[0])\n",
    "#   samples.append([line['body']])\n",
    "\n",
    "with open(IN_FILE,'rb') as input_file:\n",
    "  reader = csv.reader(input_file)\n",
    "  while len(samples) < NUM_SAMPLES:\n",
    "    lines = input_file.readlines(bufsize)\n",
    "    if not lines:\n",
    "      break\n",
    "    for line in lines:\n",
    "      comment = json.loads(line.decode('utf-8'))\n",
    "      if comment['body']:\n",
    "        samples.append([comment['body'].encode('utf-8')])\n",
    "\n",
    "with open(OUT_FILE,'wb') as output_file:\n",
    "  writer = csv.writer(output_file, quoting=csv.QUOTE_MINIMAL)"
   ]
  },
  {
   "cell_type": "code",
   "execution_count": null,
   "metadata": {},
   "outputs": [],
   "source": []
  }
 ],
 "metadata": {
  "kernelspec": {
   "display_name": "Python 3",
   "language": "python",
   "name": "python3"
  },
  "language_info": {
   "codemirror_mode": {
    "name": "ipython",
    "version": 3
   },
   "file_extension": ".py",
   "mimetype": "text/x-python",
   "name": "python",
   "nbconvert_exporter": "python",
   "pygments_lexer": "ipython3",
   "version": "3.7.2"
  }
 },
 "nbformat": 4,
 "nbformat_minor": 2
}
