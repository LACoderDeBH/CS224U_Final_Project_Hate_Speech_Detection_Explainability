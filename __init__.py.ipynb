{
 "cells": [
  {
   "cell_type": "code",
   "execution_count": 2,
   "metadata": {},
   "outputs": [
    {
     "ename": "NameError",
     "evalue": "name '__file__' is not defined",
     "output_type": "error",
     "traceback": [
      "\u001b[0;31m---------------------------------------------------------------------------\u001b[0m",
      "\u001b[0;31mNameError\u001b[0m                                 Traceback (most recent call last)",
      "\u001b[0;32m<ipython-input-2-ffcb93c16e5b>\u001b[0m in \u001b[0;36m<module>\u001b[0;34m()\u001b[0m\n\u001b[1;32m      9\u001b[0m \u001b[0;34m\u001b[0m\u001b[0m\n\u001b[1;32m     10\u001b[0m \u001b[0;31m# HATEBASE = os.path.join(os.path.dirname(__file__), '../data/hatebase/lexicon.stemmed.csv')\u001b[0m\u001b[0;34m\u001b[0m\u001b[0;34m\u001b[0m\u001b[0;34m\u001b[0m\u001b[0m\n\u001b[0;32m---> 11\u001b[0;31m \u001b[0mHATEBASE\u001b[0m \u001b[0;34m=\u001b[0m \u001b[0mos\u001b[0m\u001b[0;34m.\u001b[0m\u001b[0mpath\u001b[0m\u001b[0;34m.\u001b[0m\u001b[0mjoin\u001b[0m\u001b[0;34m(\u001b[0m\u001b[0mos\u001b[0m\u001b[0;34m.\u001b[0m\u001b[0mpath\u001b[0m\u001b[0;34m.\u001b[0m\u001b[0mdirname\u001b[0m\u001b[0;34m(\u001b[0m\u001b[0m__file__\u001b[0m\u001b[0;34m)\u001b[0m\u001b[0;34m,\u001b[0m \u001b[0;34m'../data/hatebase/lexicon.csv'\u001b[0m\u001b[0;34m)\u001b[0m\u001b[0;34m\u001b[0m\u001b[0;34m\u001b[0m\u001b[0m\n\u001b[0m\u001b[1;32m     12\u001b[0m \u001b[0mHATEBASE_NUM_FIELDS\u001b[0m \u001b[0;34m=\u001b[0m \u001b[0;36m7\u001b[0m\u001b[0;34m\u001b[0m\u001b[0;34m\u001b[0m\u001b[0m\n\u001b[1;32m     13\u001b[0m HATEBASE_FIELDS = {\n",
      "\u001b[0;31mNameError\u001b[0m: name '__file__' is not defined"
     ]
    }
   ],
   "source": [
    "from sklearn.linear_model import LogisticRegression as LR\n",
    "from sklearn.metrics import roc_auc_score as AUC\n",
    "from scipy.sparse import csr_matrix\n",
    "from scipy.sparse import vstack\n",
    "import csv\n",
    "import os\n",
    "import pandas as pd\n",
    "import numpy as np\n",
    "\n",
    "# HATEBASE = os.path.join(os.path.dirname(__file__), '../data/hatebase/lexicon.stemmed.csv')\n",
    "HATEBASE = os.path.join(os.path.dirname(__file__), '../data/hatebase/lexicon.csv')\n",
    "HATEBASE_NUM_FIELDS = 7\n",
    "HATEBASE_FIELDS = {\n",
    "    'about_class': np.int32, \n",
    "    'about_religion': np.int32, \n",
    "    'about_gender': np.int32,\n",
    "    'about_ethnicity': np.int32, \n",
    "    'about_nationality': np.int32, \n",
    "    'about_sexual_orientation': np.int32, \n",
    "    'about_disability': np.int32, \n",
    "    'offensiveness': float\n",
    "    # 'number_of_sightings': np.int32\n",
    "}\n",
    "\n",
    "def train_and_eval_auc( train_x, train_y, test_x, test_y, model=LR() ):\n",
    "    model.fit( train_x, train_y )\n",
    "    p = model.predict_proba( test_x )\n",
    "    print (p)\n",
    "    # hack\n",
    "    p = p[:,1] if p.shape[1] > 1 else p[:,0]\n",
    "\n",
    "    auc = AUC( test_y, p )\n",
    "    print (\"AUC:\", auc)\n",
    "\n",
    "# Returns matrix of shape (n_examples, n_features)\n",
    "def hatebase_features( raw_x, tokenizer=None, sparse=False ):\n",
    "    with open(HATEBASE,'rb') as hb:\n",
    "        hatebase_data = pd.read_csv( hb, header = 0, index_col = 0, quoting = 0, \n",
    "                                    dtype = HATEBASE_FIELDS, usecols = range(8) ) # dtype = HATEBASE_FIELDS, usecols = range(8) )\n",
    "\n",
    "    def get_feature_vec( str ):\n",
    "        tokens = tokenizer(str)\n",
    "        # matches = [hatebase_data[w] for w in hatebase_data if w in tokens] # gets unique tokens\n",
    "        matches = [w for w in tokens if w in hatebase_data.index]\n",
    "        feature_vec = hatebase_data.ix[matches].sum(axis=0).values.astype(int)\n",
    "        if sparse:\n",
    "            return csr_matrix(feature_vec) \n",
    "        return feature_vec\n",
    "\n",
    "    feature_vecs = [get_feature_vec(str) for str in raw_x]\n",
    "    if sparse:\n",
    "        return vstack(feature_vecs)\n",
    "    return np.stack(feature_vecs, axis=0)\n"
   ]
  },
  {
   "cell_type": "code",
   "execution_count": null,
   "metadata": {},
   "outputs": [],
   "source": []
  }
 ],
 "metadata": {
  "kernelspec": {
   "display_name": "Python 3",
   "language": "python",
   "name": "python3"
  },
  "language_info": {
   "codemirror_mode": {
    "name": "ipython",
    "version": 3
   },
   "file_extension": ".py",
   "mimetype": "text/x-python",
   "name": "python",
   "nbconvert_exporter": "python",
   "pygments_lexer": "ipython3",
   "version": "3.7.2"
  }
 },
 "nbformat": 4,
 "nbformat_minor": 2
}
